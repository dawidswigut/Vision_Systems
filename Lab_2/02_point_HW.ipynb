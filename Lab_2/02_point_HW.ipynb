{
 "cells": [
  {
   "cell_type": "markdown",
   "metadata": {
    "collapsed": false
   },
   "source": [
    "# Zadanie domowe\n",
    "\n",
    "W przypadku obrazów w odcieniach szarości pojedynczy piksel z zakresu [0; 255] reprezentowany jest jako 8-bitowa liczba bez znaku.\n",
    "Pewnym rozszerzeniem analizy sposobu reprezentacji obrazu może być następujący eksperyment.\n",
    "Załóżmy, że z każdego z 8 bitów możemy stworzyć pojedynczy obraz binarny (ang. _bit-plane slicing_).\n",
    "Dla obrazka _100zloty.jpg_ (https://raw.githubusercontent.com/vision-agh/poc_sw/master/02_Point/100zloty.jpg) stwórz 8 obrazów, z których każdy powinien zawierać jedną płaszczyznę bitową.\n",
    "Podpowiedź $-$ warto sprawdzić, jak realizuje się bitowe operacje logiczne.\n",
    "Zastosowanie takiej dekompozycji obrazu pozwala na analizę ,,ważności'' poszczególnych bitów.\n",
    "Jest to użyteczne w kwantyzacji, ale także w kompresji.\n",
    "\n",
    "W drugim etapie zadania proszę spróbować odtworzyć obraz oryginalny z mniejszej liczby obrazów binarnych.\n",
    "Warto zacząć od dwóch najbardziej znaczących bitów, a później dodawać kolejne.\n",
    "Należy utworzyć co najmniej trzy wersje zrekonstruowanych obrazów.\n",
    "Podpowiedź $-$ rekonstrukcja obrazu to mnożenie przez odpowiednią potęgę liczby 2 (przesunięcie bitowe) oraz dodawanie."
   ]
  },
  {
   "cell_type": "code",
   "execution_count": null,
   "metadata": {},
   "outputs": [],
   "source": [
    "import numpy as np\n",
    "import cv2\n",
    "import os\n",
    "import matplotlib.pyplot as plt"
   ]
  },
  {
   "cell_type": "code",
   "execution_count": null,
   "metadata": {},
   "outputs": [],
   "source": [
    "if not os.path.exists(\"100zloty.jpg\"):\n",
    "    !wget https://raw.githubusercontent.com/vision-agh/poc_sw/master/02_Point/100zloty.jpg\n",
    "\n",
    "image = cv2.imread('100zloty.jpg')\n",
    "plt.imshow(image)\n",
    "plt.xticks([]), plt.yticks([])\n",
    "plt.show()\n",
    "\n",
    "# Dekompozycja na płaszczyzny bitowe\n",
    "bit_planes = [np.bitwise_and(image, 2**i) for i in range(8)]\n",
    "\n",
    "# Wyświetlenie poszczególnych płaszczyzn bitowych\n",
    "plt.figure(figsize=(15, 10))\n",
    "for i in range(8):\n",
    "    plt.subplot(2, 4, i+1)\n",
    "    plt.imshow(bit_planes[i])\n",
    "    plt.title(f'Płaszczyzna bitowa {i+1}')\n",
    "    plt.axis('off')\n",
    "plt.show()\n",
    "\n",
    "# Rekonstrukcja obrazu z dwóch najbardziej znaczących bitów\n",
    "reconstructed_image_2bits = np.zeros_like(image)\n",
    "for i in range(2):\n",
    "    reconstructed_image_2bits += bit_planes[i] * (2**i)\n",
    "\n",
    "# Wyświetlenie zrekonstruowanego obrazu\n",
    "plt.imshow(reconstructed_image_2bits, cmap='gray')\n",
    "plt.title('Rekonstrukcja obrazu z dwóch najbardziej znaczących bitów')\n",
    "plt.axis('off')\n",
    "plt.show()\n",
    "\n",
    "# Rekonstrukcja obrazu z trzech najbardziej znaczących bitów\n",
    "reconstructed_image_3bits = np.zeros_like(image)\n",
    "for i in range(3):\n",
    "    reconstructed_image_3bits += bit_planes[i] * (2**i)\n",
    "\n",
    "# Rekonstrukcja obrazu z czterech najbardziej znaczących bitów\n",
    "reconstructed_image_4bits = np.zeros_like(image)\n",
    "for i in range(4):\n",
    "    reconstructed_image_4bits += bit_planes[i] * (2**i)\n",
    "\n",
    "# Wyświetlenie zrekonstruowanych obrazów\n",
    "plt.figure(figsize=(15, 5))\n",
    "\n",
    "plt.subplot(1, 3, 1)\n",
    "plt.imshow(reconstructed_image_2bits)\n",
    "plt.title('2 Bity')\n",
    "plt.axis('off')\n",
    "\n",
    "plt.subplot(1, 3, 2)\n",
    "plt.imshow(reconstructed_image_3bits)\n",
    "plt.title('3 Bity')\n",
    "plt.axis('off')\n",
    "\n",
    "plt.subplot(1, 3, 3)\n",
    "plt.imshow(reconstructed_image_4bits)\n",
    "plt.title('4 Bity')\n",
    "plt.axis('off')\n",
    "\n",
    "plt.show()"
   ]
  }
 ],
 "metadata": {
  "kernelspec": {
   "display_name": "Python 3",
   "language": "python",
   "name": "python3"
  },
  "language_info": {
   "codemirror_mode": {
    "name": "ipython",
    "version": 3
   },
   "file_extension": ".py",
   "mimetype": "text/x-python",
   "name": "python",
   "nbconvert_exporter": "python",
   "pygments_lexer": "ipython3",
   "version": "3.12.0"
  }
 },
 "nbformat": 4,
 "nbformat_minor": 0
}
