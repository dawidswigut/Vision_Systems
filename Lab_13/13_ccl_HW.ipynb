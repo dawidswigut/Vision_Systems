{
 "cells": [
  {
   "cell_type": "code",
   "execution_count": null,
   "metadata": {},
   "outputs": [],
   "source": [
    "import matplotlib.pyplot as plt\n",
    "import cv2\n",
    "import numpy as np\n",
    "import os"
   ]
  },
  {
   "cell_type": "code",
   "execution_count": null,
   "metadata": {},
   "outputs": [],
   "source": [
    "I_screws = cv2.imread('details.png', cv2.IMREAD_GRAYSCALE)\n",
    "I_screws = cv2.medianBlur(I_screws, 3)\n",
    "\n",
    "plt.imshow(I_screws, 'gray')\n",
    "plt.axis('off')\n",
    "plt.show()\n"
   ]
  },
  {
   "cell_type": "code",
   "execution_count": null,
   "metadata": {},
   "outputs": [],
   "source": [
    "structuring_element = cv2.getStructuringElement(cv2.MORPH_ELLIPSE, (15, 15))\n",
    "\n",
    "fer_top = cv2.morphologyEx(I_screws, cv2.MORPH_TOPHAT, structuring_element)\n",
    "fer_bla = cv2.morphologyEx(I_screws, cv2.MORPH_BLACKHAT, structuring_element)\n",
    "\n",
    "plt.imshow(fer_top, 'gray', vmin=0, vmax=256)\n",
    "plt.axis('off')\n",
    "plt.show()\n",
    "\n",
    "plt.imshow(fer_bla, 'gray', vmin=0, vmax=256)\n",
    "plt.axis('off')\n",
    "plt.show()\n"
   ]
  },
  {
   "cell_type": "code",
   "execution_count": null,
   "metadata": {},
   "outputs": [],
   "source": [
    "image_bin_pod = np.where(I_screws < 210, 0, 1)\n",
    "image_bin_pod = image_bin_pod.astype('uint8')\n",
    "\n",
    "plt.imshow(image_bin_pod, 'gray')\n",
    "plt.axis('off')\n",
    "plt.show()"
   ]
  },
  {
   "cell_type": "code",
   "execution_count": null,
   "metadata": {},
   "outputs": [],
   "source": [
    "image_bin = np.where(fer_bla < 50, 0, 1)\n",
    "image_bin = image_bin.astype('uint8')\n",
    "\n",
    "plt.imshow(image_bin, 'gray')\n",
    "plt.axis('off')\n",
    "plt.show()"
   ]
  },
  {
   "cell_type": "code",
   "execution_count": null,
   "metadata": {},
   "outputs": [],
   "source": [
    "suma = image_bin + image_bin_pod\n",
    "suma = suma.astype('uint8')\n",
    "\n",
    "plt.imshow(suma, 'gray')\n",
    "plt.axis('off')\n",
    "plt.show()"
   ]
  },
  {
   "cell_type": "code",
   "execution_count": null,
   "metadata": {},
   "outputs": [],
   "source": [
    "suma_bin = np.where(suma > 0, 1, 0)\n",
    "suma_bin = suma_bin.astype('uint8')\n",
    "suma_bin = cv2.medianBlur(suma_bin, 3)\n",
    "img_dilate = cv2.dilate(suma_bin, np.ones((3, 3)))\n",
    "\n",
    "plt.imshow(img_dilate, 'gray')\n",
    "plt.axis('off')\n",
    "plt.show()"
   ]
  },
  {
   "cell_type": "code",
   "execution_count": null,
   "metadata": {},
   "outputs": [],
   "source": [
    "labels, I_indices, stats, centroids = cv2.connectedComponentsWithStats(img_dilate)\n",
    "plt.imshow(I_indices, 'gray')\n",
    "plt.axis('off')\n",
    "print(centroids[0, 0])"
   ]
  },
  {
   "cell_type": "code",
   "execution_count": null,
   "metadata": {},
   "outputs": [],
   "source": [
    "ccl_vis = I_indices.copy()\n",
    "s = 0\n",
    "for label_num in range(2, labels + 1):\n",
    "    cv2.putText(ccl_vis, str(label_num - 1), (int(centroids[label_num - 1, 0]), int(centroids[label_num - 1, 1])), cv2.FONT_HERSHEY_SIMPLEX, 1, (20, 0, 0), 2)\n",
    "\n",
    "plt.imshow(ccl_vis, 'gray')\n",
    "plt.axis('off')"
   ]
  },
  {
   "cell_type": "code",
   "execution_count": null,
   "metadata": {},
   "outputs": [],
   "source": [
    "moments_real = []\n",
    "hu_moments_real = []\n",
    "images_real = []\n",
    "\n",
    "for i in range(1, labels):\n",
    "    print(\"Object number: {}\".format(i))\n",
    "    I = (I_indices == i) * 1\n",
    "    I = I.astype('uint8')\n",
    "    images_real.append(I)\n",
    "\n",
    "    plt.imshow(I, 'gray')\n",
    "    plt.show()\n",
    "    moments_real.append(cv2.moments(I))\n",
    "    hu_moments_real.append(cv2.HuMoments(moments_real[i - 1]))\n",
    "    print(moments_real[i - 1]['m00'])\n",
    "    print(hu_moments_real[i - 1][0][0])\n",
    "    print(hu_moments_real[i - 1][1][0])\n",
    "    print(hu_moments_real[i - 1][2][0])"
   ]
  },
  {
   "cell_type": "code",
   "execution_count": null,
   "metadata": {},
   "outputs": [],
   "source": [
    "A, B = I_indices.shape\n",
    "empty_real = np.zeros((A, B))\n",
    "\n",
    "for i in range(len(images_real)):\n",
    "    if(moments_real[i]['m00'] > 319 and moments_real[i]['m00'] < 860 and hu_moments_real[i][0][0] > 0.19 and hu_moments_real[i][1][0] > 0.04):\n",
    "        empty_real += images_real[i]\n",
    "\n",
    "plt.imshow(empty_real, 'gray')\n",
    "plt.show()"
   ]
  },
  {
   "cell_type": "code",
   "execution_count": null,
   "metadata": {},
   "outputs": [],
   "source": [
    "A, B = I_indices.shape\n",
    "empty_nut = np.zeros((A, B))\n",
    "\n",
    "for i in range(len(images_real)):\n",
    "    if((moments_real[i]['m00'] > 302 and moments_real[i]['m00'] < 355 and hu_moments_real[i][0][0] > 0.17 and hu_moments_real[i][0][0] < 0.196)\n",
    "       or ((moments_real[i]['m00'] > 819 and moments_real[i]['m00'] < 910 and hu_moments_real[i][0][0] > 0.17 and hu_moments_real[i][0][0] < 0.20))):\n",
    "        empty_nut += images_real[i]\n",
    "\n",
    "plt.imshow(empty_nut, 'gray')\n",
    "plt.show()"
   ]
  },
  {
   "cell_type": "code",
   "execution_count": null,
   "metadata": {},
   "outputs": [],
   "source": [
    "A, B = I_indices.shape\n",
    "empty_washer = np.zeros((A, B))\n",
    "\n",
    "for i in range(len(images_real)):\n",
    "    if((moments_real[i]['m00'] > 282 and moments_real[i]['m00'] < 380 and hu_moments_real[i][0][0] > 0.19 and hu_moments_real[i][0][0] < 0.26 and hu_moments_real[i][2][0] > 5.25*10**(-5))\n",
    "       or ((moments_real[i]['m00'] > 886 and moments_real[i]['m00'] < 972 and hu_moments_real[i][0][0] > 0.16 and hu_moments_real[i][0][0] < 0.18))):\n",
    "        empty_washer += images_real[i]\n",
    "\n",
    "plt.imshow(empty_washer, 'gray')\n",
    "plt.show()"
   ]
  }
 ],
 "metadata": {
  "kernelspec": {
   "display_name": "Python 3",
   "language": "python",
   "name": "python3"
  },
  "language_info": {
   "codemirror_mode": {
    "name": "ipython",
    "version": 3
   },
   "file_extension": ".py",
   "mimetype": "text/x-python",
   "name": "python",
   "nbconvert_exporter": "python",
   "pygments_lexer": "ipython3",
   "version": "3.12.0"
  }
 },
 "nbformat": 4,
 "nbformat_minor": 2
}
