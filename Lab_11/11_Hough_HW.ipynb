{
 "cells": [
  {
   "cell_type": "markdown",
   "metadata": {},
   "source": [
    "### Transformata Hougha w przestrzeni ab - Domowe\n",
    "Przestrzeń ρ,θ nie jest jedyną przestrzenią w której punkt odpowiada parametrom prostej. Np. można spróbować wykorzystać tradycyjne równanie prostej:\n",
    "\n",
    "y=ax+b\n",
    "\n",
    "W tej przestrzeni reprezentacją pęku prostych jest prosta. \n",
    "\n",
    "Zadanie: napisać funkcję, która jako argument przyjmuje obraz (binarny) oraz parametry:\n",
    "\n",
    "- aMin - minimalna wartość parametru a\n",
    "- aMax - maksymalna  wartość parametru a\n",
    "- aSkok - skok parametru a\n",
    "- bMin - minimalna wartość parametru b\n",
    "- bMax  - maksymalna  wartość parametru b\n",
    "- bSkok - skok parametru b\n",
    "Jako wynik ma zwrócić macierz przestrzeni Hougha ab.\n",
    "\n",
    "Uwagi:\n",
    "\n",
    "- zadanie może wyglądać na skomplikowane ale tak naprawdę wymaga tylko starannego przemyślenia\n",
    "- najważniejszy jest problem \"adresowania\" macierzy H. Można do tego wykorzystać dwa wektory A i B ze wszystkimi możliwymi wartościami jakie parametry a i b mogę przyjąć (w podanych zakresach z podanym skokiem). Wówczas indeksy tych wektorów będą współrzędnymi w macierzy H. Do stworzenia wektorów wykorzystaj funkcję _np.arange_\n",
    "- na podstawie rozmiaru wektorów A i B (własność _shape_) należy stworzyć wyzerowaną macierz H (funkcja _np.zeros_) \n",
    "- dla każdego punktu krawędzi na obrazie należy:\n",
    "    - używająć wektora A dla każdej z jego wartości a obliczyć odpowiednią wartość b - indeksy kolejnych wartości a (a_idx) będą jedną z współrzędnych macierzy H, natomiast drugą współrędną mozna uzyskać jako b_idx = np.argmin(abs(B - b)).\n",
    "        - każde a_idx i b_idx wyznaczą punkt w macierzy H, który należy zinkrementować\n",
    "- działanie funkcji należy przetestować na punktach generowanych w 'edytorku' z punktu \"Transformacja Hougha dla małej liczby punktów\". Proponowane parametry funkcji:\n",
    "    - aMin: -5\n",
    "    - aMax:  5\n",
    "    - aSkok: 0.05 \n",
    "    - bMin: -100\n",
    "    - bMax:  100\n",
    "    - bSkok: 1\n",
    "\n",
    "Zastanów się w przypadku jakich prostych reprezentacja ab nie sprawdzi się."
   ]
  },
  {
   "cell_type": "code",
   "execution_count": null,
   "metadata": {},
   "outputs": [],
   "source": [
    "import matplotlib.pyplot as plt\n",
    "import cv2\n",
    "import numpy as np\n",
    "from skimage.transform import hough_line, hough_line_peaks"
   ]
  },
  {
   "cell_type": "code",
   "execution_count": null,
   "metadata": {},
   "outputs": [],
   "source": [
    "def hough_trans_ab(binary, a_min, a_max, a_step, b_min, b_max, b_step):\n",
    "    b_values = np.arange(b_min, b_max, b_step)\n",
    "    a_values = np.arange(a_min, a_max, a_step)\n",
    "    \n",
    "    H = np.zeros((b_values.shape[0], a_values.shape[0]))\n",
    "    \n",
    "    bin_x, bin_y = binary.shape\n",
    "    for i in range(bin_x):\n",
    "        for j in range(bin_y):\n",
    "            if binary[i, j] == 1:\n",
    "                for a_idx in range(len(a_values)):\n",
    "                    b = i - a_values[a_idx] * j\n",
    "                    b_idx = np.argmin(np.abs(b_values - b))\n",
    "                    H[b_idx, a_idx] += 1\n",
    "    return H\n",
    "\n",
    "def show_hough(h, image):\n",
    "    fig, axes = plt.subplots(1, 2, figsize=(15, 6))\n",
    "    ax = axes.ravel()\n",
    "\n",
    "    ax[0].imshow(image, 'gray')\n",
    "    ax[0].set_title('Original Image')\n",
    "    ax[0].set_axis_off()\n",
    "    \n",
    "    ax[1].imshow(h, 'gray')\n",
    "    ax[1].set_title('Hough Transform in ab Space')\n",
    "    \n",
    "    plt.tight_layout()\n",
    "    plt.show()"
   ]
  },
  {
   "cell_type": "code",
   "execution_count": null,
   "metadata": {},
   "outputs": [],
   "source": [
    "a_min = -5\n",
    "a_max = 5\n",
    "a_step = 0.05\n",
    "b_min = -100\n",
    "b_max = 100\n",
    "b_step = 1\n",
    "\n",
    "# Przykład 1: pojedynczy punkt\n",
    "im1 = np.zeros((100, 100))\n",
    "im1[50, 50] = 1\n",
    "hough_1 = hough_trans_ab(im1, a_min, a_max, a_step, b_min, b_max, b_step)\n",
    "show_hough(hough_1, im1)"
   ]
  },
  {
   "cell_type": "code",
   "execution_count": null,
   "metadata": {},
   "outputs": [],
   "source": [
    "# Przykład 2: trzy punkty\n",
    "im2 = np.zeros((100, 100))\n",
    "im2[80, 20] = 1\n",
    "im2[40, 30] = 1\n",
    "im2[60, 60] = 1\n",
    "hough_3 = hough_trans_ab(im2, a_min, a_max, a_step, b_min, b_max, b_step)\n",
    "show_hough(hough_3, im2)"
   ]
  },
  {
   "cell_type": "code",
   "execution_count": null,
   "metadata": {},
   "outputs": [],
   "source": [
    "# Przykład 3: linia pionowa\n",
    "im3 = np.zeros((100, 100))\n",
    "im3[50:55, 50] = 1\n",
    "hough_vertical = hough_trans_ab(im3, a_min, a_max, a_step, b_min, b_max, b_step)\n",
    "show_hough(hough_vertical, im3)"
   ]
  },
  {
   "cell_type": "code",
   "execution_count": null,
   "metadata": {},
   "outputs": [],
   "source": [
    "# Przykład 4: linia pozioma\n",
    "im4 = np.zeros((100, 100))\n",
    "im4[50, 50:55] = 1\n",
    "hough_horizontal = hough_trans_ab(im4, a_min, a_max, a_step, b_min, b_max, b_step)\n",
    "show_hough(hough_horizontal, im4)"
   ]
  },
  {
   "cell_type": "markdown",
   "metadata": {},
   "source": [
    "Reprezentacja nie sprawdza się w przypadku prostych pionowych. dla linii pionowych, współczynnik nachylenia 𝑎 rośnie do nieskończoności. Oznacza to, że przy wyrażaniu linii pionowej za pomocą równania 𝑦=𝑎𝑥+𝑏, współczynnik 𝑎 staje się bardzo duży, a współczynnik 𝑏 staje się nieokreślony (bo linia jest równoległa do osi 𝑦). W praktyce oznacza to, że dla linii pionowych przestrzeń Hougha ab staje się \"rozmyta\". Wartości 𝑎 mogą rosnąć do nieskończoności, co sprawia, że trudno jest znaleźć jednoznaczne dopasowanie do linii pionowej w przestrzeni Hougha. Dlatego algorytmy wykorzystujące transformację Hougha ab mogą mieć trudności w identyfikacji linii pionowych lub mogą wymagać dodatkowych technik lub modyfikacji algorytmu w celu skutecznego ich wykrycia."
   ]
  }
 ],
 "metadata": {
  "celltoolbar": "Raw Cell Format",
  "kernelspec": {
   "display_name": "Python 3",
   "language": "python",
   "name": "python3"
  },
  "language_info": {
   "codemirror_mode": {
    "name": "ipython",
    "version": 3
   },
   "file_extension": ".py",
   "mimetype": "text/x-python",
   "name": "python",
   "nbconvert_exporter": "python",
   "pygments_lexer": "ipython3",
   "version": "3.12.0"
  }
 },
 "nbformat": 4,
 "nbformat_minor": 2
}
